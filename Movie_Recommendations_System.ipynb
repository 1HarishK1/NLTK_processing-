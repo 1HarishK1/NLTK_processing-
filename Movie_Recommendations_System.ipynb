{
  "nbformat": 4,
  "nbformat_minor": 0,
  "metadata": {
    "colab": {
      "provenance": [],
      "toc_visible": true,
      "mount_file_id": "1q4kGgGYJFgW9gMOnUv2FGqU0JCZF0YNd",
      "authorship_tag": "ABX9TyPdStYqSi+TVhr6Vvy5/Wdo",
      "include_colab_link": true
    },
    "kernelspec": {
      "name": "python3",
      "display_name": "Python 3"
    },
    "language_info": {
      "name": "python"
    }
  },
  "cells": [
    {
      "cell_type": "markdown",
      "metadata": {
        "id": "view-in-github",
        "colab_type": "text"
      },
      "source": [
        "<a href=\"https://colab.research.google.com/github/1HarishK1/NLTK_processing-/blob/main/Movie_Recommendations_System.ipynb\" target=\"_parent\"><img src=\"https://colab.research.google.com/assets/colab-badge.svg\" alt=\"Open In Colab\"/></a>"
      ]
    },
    {
      "cell_type": "code",
      "execution_count": null,
      "metadata": {
        "id": "jPZhKqYvwkg1"
      },
      "outputs": [],
      "source": [
        "import pandas as pd\n",
        "import numpy as np"
      ]
    },
    {
      "cell_type": "code",
      "source": [
        "Movie=pd.read_csv(\"/content/drive/MyDrive/imdb_top_1000.csv\")"
      ],
      "metadata": {
        "id": "rbR1mujiwsRB"
      },
      "execution_count": null,
      "outputs": []
    },
    {
      "cell_type": "code",
      "source": [
        "Movie.info()"
      ],
      "metadata": {
        "colab": {
          "base_uri": "https://localhost:8080/"
        },
        "id": "k1PqSzr_4N6b",
        "outputId": "2cd4b090-0497-43bb-8b97-6fd933dc8171"
      },
      "execution_count": null,
      "outputs": [
        {
          "output_type": "stream",
          "name": "stdout",
          "text": [
            "<class 'pandas.core.frame.DataFrame'>\n",
            "RangeIndex: 1000 entries, 0 to 999\n",
            "Data columns (total 16 columns):\n",
            " #   Column         Non-Null Count  Dtype  \n",
            "---  ------         --------------  -----  \n",
            " 0   Poster_Link    1000 non-null   object \n",
            " 1   Series_Title   1000 non-null   object \n",
            " 2   Released_Year  1000 non-null   object \n",
            " 3   Certificate    899 non-null    object \n",
            " 4   Runtime        1000 non-null   object \n",
            " 5   Genre          1000 non-null   object \n",
            " 6   IMDB_Rating    1000 non-null   float64\n",
            " 7   Overview       1000 non-null   object \n",
            " 8   Meta_score     843 non-null    float64\n",
            " 9   Director       1000 non-null   object \n",
            " 10  Star1          1000 non-null   object \n",
            " 11  Star2          1000 non-null   object \n",
            " 12  Star3          1000 non-null   object \n",
            " 13  Star4          1000 non-null   object \n",
            " 14  No_of_Votes    1000 non-null   int64  \n",
            " 15  Gross          831 non-null    object \n",
            "dtypes: float64(2), int64(1), object(13)\n",
            "memory usage: 125.1+ KB\n"
          ]
        }
      ]
    },
    {
      "cell_type": "code",
      "source": [
        "Movie.rename(columns = {'Series_Title':'Title'},inplace='true')"
      ],
      "metadata": {
        "id": "Xdkr7CjiMnZd"
      },
      "execution_count": null,
      "outputs": []
    },
    {
      "cell_type": "code",
      "source": [
        "Movie['Title']=Movie['Title'].apply(str.lower)"
      ],
      "metadata": {
        "id": "e3BZGuqTE7X9"
      },
      "execution_count": null,
      "outputs": []
    },
    {
      "cell_type": "code",
      "source": [
        "Movie.fillna(\"\")\n",
        "Movie.isnull().sum()"
      ],
      "metadata": {
        "colab": {
          "base_uri": "https://localhost:8080/"
        },
        "id": "LKpFmriOONdn",
        "outputId": "9ca2fabe-e6fd-4780-c3e9-be927075597b"
      },
      "execution_count": null,
      "outputs": [
        {
          "output_type": "execute_result",
          "data": {
            "text/plain": [
              "Poster_Link        0\n",
              "Title              0\n",
              "Released_Year      0\n",
              "Certificate      101\n",
              "Runtime            0\n",
              "Genre              0\n",
              "IMDB_Rating        0\n",
              "Overview           0\n",
              "Meta_score       157\n",
              "Director           0\n",
              "Star1              0\n",
              "Star2              0\n",
              "Star3              0\n",
              "Star4              0\n",
              "No_of_Votes        0\n",
              "Gross            169\n",
              "dtype: int64"
            ]
          },
          "metadata": {},
          "execution_count": 51
        }
      ]
    },
    {
      "cell_type": "code",
      "source": [
        "Movie.duplicated().sum()"
      ],
      "metadata": {
        "colab": {
          "base_uri": "https://localhost:8080/"
        },
        "id": "IDW2JMONQSlX",
        "outputId": "58c43861-13a4-45fa-e4df-48e81b6da65d"
      },
      "execution_count": null,
      "outputs": [
        {
          "output_type": "execute_result",
          "data": {
            "text/plain": [
              "0"
            ]
          },
          "metadata": {},
          "execution_count": 248
        }
      ]
    },
    {
      "cell_type": "code",
      "source": [
        "Movie['Star1']"
      ],
      "metadata": {
        "colab": {
          "base_uri": "https://localhost:8080/"
        },
        "id": "K_HNHyB6K6oF",
        "outputId": "c6ff8b9a-5606-44c1-c560-07e8822cdcdf"
      },
      "execution_count": null,
      "outputs": [
        {
          "output_type": "execute_result",
          "data": {
            "text/plain": [
              "0            Tim Robbins\n",
              "1          Marlon Brando\n",
              "2         Christian Bale\n",
              "3              Al Pacino\n",
              "4            Henry Fonda\n",
              "             ...        \n",
              "995       Audrey Hepburn\n",
              "996     Elizabeth Taylor\n",
              "997       Burt Lancaster\n",
              "998    Tallulah Bankhead\n",
              "999         Robert Donat\n",
              "Name: Star1, Length: 1000, dtype: object"
            ]
          },
          "metadata": {},
          "execution_count": 294
        }
      ]
    },
    {
      "cell_type": "code",
      "source": [
        "Movie['Star1']=Movie['Star1'].apply(lambda x:x.replace(\" \",\"\"))\n",
        "Movie['Star2']=Movie['Star2'].apply(lambda x:x.replace(\" \",\"\"))\n",
        "Movie['Star3']=Movie['Star3'].apply(lambda x:x.replace(\" \",\"\"))\n",
        "Movie['Star4']=Movie['Star4'].apply(lambda x:x.replace(\" \",\"\"))\n",
        "Movie['Director']=Movie['Director'].apply(lambda x:x.replace(\" \",\"\"))"
      ],
      "metadata": {
        "id": "b76a6PMfXUzp"
      },
      "execution_count": null,
      "outputs": []
    },
    {
      "cell_type": "code",
      "source": [
        "Movie['Director'].head (25)"
      ],
      "metadata": {
        "colab": {
          "base_uri": "https://localhost:8080/"
        },
        "id": "14C66d0nJ8I7",
        "outputId": "4a756974-6b67-429c-c5e3-6e882977af41"
      },
      "execution_count": null,
      "outputs": [
        {
          "output_type": "execute_result",
          "data": {
            "text/plain": [
              "0          FrankDarabont\n",
              "1     FrancisFordCoppola\n",
              "2       ChristopherNolan\n",
              "3     FrancisFordCoppola\n",
              "4            SidneyLumet\n",
              "5           PeterJackson\n",
              "6       QuentinTarantino\n",
              "7        StevenSpielberg\n",
              "8       ChristopherNolan\n",
              "9           DavidFincher\n",
              "10          PeterJackson\n",
              "11        RobertZemeckis\n",
              "12           SergioLeone\n",
              "13          PeterJackson\n",
              "14         LanaWachowski\n",
              "15        MartinScorsese\n",
              "16         IrvinKershner\n",
              "17           MilosForman\n",
              "18            ThomasKail\n",
              "19            BongJoonHo\n",
              "20          SudhaKongara\n",
              "21      ChristopherNolan\n",
              "22     FernandoMeirelles\n",
              "23         HayaoMiyazaki\n",
              "24       StevenSpielberg\n",
              "Name: Director, dtype: object"
            ]
          },
          "metadata": {},
          "execution_count": 142
        }
      ]
    },
    {
      "cell_type": "code",
      "source": [
        "Movie['Stars']=Movie[['Star1','Star2','Star3','Star4']].apply(\" \".join,axis=1)\n",
        "Movie['Stars'][0]"
      ],
      "metadata": {
        "colab": {
          "base_uri": "https://localhost:8080/",
          "height": 53
        },
        "id": "35dSdVjoAjrE",
        "outputId": "f2f0e774-e2e6-460f-d6c4-2b466777658a"
      },
      "execution_count": null,
      "outputs": [
        {
          "output_type": "execute_result",
          "data": {
            "text/plain": [
              "'TimRobbins MorganFreeman BobGunton WilliamSadler'"
            ],
            "application/vnd.google.colaboratory.intrinsic+json": {
              "type": "string"
            }
          },
          "metadata": {},
          "execution_count": 433
        }
      ]
    },
    {
      "cell_type": "code",
      "source": [
        "Movie.Overview=Movie.Overview.apply(lambda x:x.replace('.',''))\n",
        "Movie.Overview=Movie.Overview.apply(lambda x:x.split())"
      ],
      "metadata": {
        "id": "uZ67h6HqPh4S"
      },
      "execution_count": null,
      "outputs": []
    },
    {
      "cell_type": "code",
      "source": [
        "from sklearn.feature_extraction.text import CountVectorizer\n",
        "from sklearn.metrics.pairwise import cosine_similarity"
      ],
      "metadata": {
        "id": "jdk_YX8LyYbR"
      },
      "execution_count": null,
      "outputs": []
    },
    {
      "cell_type": "code",
      "source": [
        "import nltk\n",
        "from nltk.stem.porter import PorterStemmer\n",
        "ps=PorterStemmer()"
      ],
      "metadata": {
        "id": "5_VFrocKjhfA"
      },
      "execution_count": null,
      "outputs": []
    },
    {
      "cell_type": "code",
      "source": [
        "def stem(text):\n",
        "  y=[]\n",
        "  for x in text.split( ):\n",
        "     y.append(ps.stem(x))\n",
        "  return \" \".join(y)"
      ],
      "metadata": {
        "id": "TC8IuEDcj2m4"
      },
      "execution_count": null,
      "outputs": []
    },
    {
      "cell_type": "code",
      "source": [
        "Movie['Overview']=Movie['Overview'].apply(stem)"
      ],
      "metadata": {
        "id": "zrhTf8jikQm-"
      },
      "execution_count": null,
      "outputs": []
    },
    {
      "cell_type": "code",
      "source": [
        "Movie['tag']=Movie[['Title','Genre', 'Overview', 'Director','Stars']].astype(str).apply(\" \".join,axis=1)"
      ],
      "metadata": {
        "id": "L2o6pR_HQXi5"
      },
      "execution_count": null,
      "outputs": []
    },
    {
      "cell_type": "code",
      "source": [
        "Movie['tag']=Movie['tag'].apply(str.lower).tolist()"
      ],
      "metadata": {
        "id": "gu4loiigUHGd"
      },
      "execution_count": null,
      "outputs": []
    },
    {
      "cell_type": "code",
      "source": [
        "Movie['tag'][0]"
      ],
      "metadata": {
        "colab": {
          "base_uri": "https://localhost:8080/",
          "height": 176
        },
        "id": "AMaNtxPL98rm",
        "outputId": "2bcf2807-8a30-4d42-b2f2-aee5fcd11827"
      },
      "execution_count": null,
      "outputs": [
        {
          "output_type": "execute_result",
          "data": {
            "text/plain": [
              "\"the shawshank redemption Drama ['Two', 'imprisoned', 'men', 'bond', 'over', 'a', 'number', 'of', 'years,', 'finding', 'solace', 'and', 'eventual', 'redemption', 'through', 'acts', 'of', 'common', 'decency'] FrankDarabont TimRobbins MorganFreeman BobGunton WilliamSadler\""
            ],
            "application/vnd.google.colaboratory.intrinsic+json": {
              "type": "string"
            }
          },
          "metadata": {},
          "execution_count": 435
        }
      ]
    },
    {
      "cell_type": "markdown",
      "source": [
        "Converting text data to numerica vectors"
      ],
      "metadata": {
        "id": "wh8KLGjNxl2p"
      }
    },
    {
      "cell_type": "code",
      "source": [
        "cv=CountVectorizer()\n",
        "designed_vectors=cv.fit_transform(Movie['tag']).toarray()"
      ],
      "metadata": {
        "id": "dxTp-3Xey2rQ"
      },
      "execution_count": null,
      "outputs": []
    },
    {
      "cell_type": "code",
      "source": [
        "designed_vectors.shape"
      ],
      "metadata": {
        "colab": {
          "base_uri": "https://localhost:8080/"
        },
        "id": "HpjxM3bB_Imm",
        "outputId": "9e7f434f-ae66-456c-ce59-286458223071"
      },
      "execution_count": null,
      "outputs": [
        {
          "output_type": "execute_result",
          "data": {
            "text/plain": [
              "(1000, 9886)"
            ]
          },
          "metadata": {},
          "execution_count": 364
        }
      ]
    },
    {
      "cell_type": "code",
      "source": [
        "len(cv.get_feature_names())"
      ],
      "metadata": {
        "colab": {
          "base_uri": "https://localhost:8080/",
          "height": 325
        },
        "id": "HxW7dti6_ZUv",
        "outputId": "872a7b4f-2dc3-46fb-f809-15bec927ff71"
      },
      "execution_count": null,
      "outputs": [
        {
          "output_type": "error",
          "ename": "AttributeError",
          "evalue": "ignored",
          "traceback": [
            "\u001b[0;31m---------------------------------------------------------------------------\u001b[0m",
            "\u001b[0;31mAttributeError\u001b[0m                            Traceback (most recent call last)",
            "\u001b[0;32m<ipython-input-365-946782840e31>\u001b[0m in \u001b[0;36m<cell line: 1>\u001b[0;34m()\u001b[0m\n\u001b[0;32m----> 1\u001b[0;31m \u001b[0mlen\u001b[0m\u001b[0;34m(\u001b[0m\u001b[0mcv\u001b[0m\u001b[0;34m.\u001b[0m\u001b[0mget_feature_names\u001b[0m\u001b[0;34m(\u001b[0m\u001b[0;34m)\u001b[0m\u001b[0;34m)\u001b[0m\u001b[0;34m\u001b[0m\u001b[0;34m\u001b[0m\u001b[0m\n\u001b[0m",
            "\u001b[0;31mAttributeError\u001b[0m: 'CountVectorizer' object has no attribute 'get_feature_names'"
          ]
        }
      ]
    },
    {
      "cell_type": "code",
      "source": [
        "cos_similarity=cosine_similarity(designed_vectors)\n",
        "cos_similarity.shape"
      ],
      "metadata": {
        "id": "aiAGzFPV1tw6",
        "colab": {
          "base_uri": "https://localhost:8080/"
        },
        "outputId": "7bb50c08-e0ea-426c-8bfd-b6cc93df0c73"
      },
      "execution_count": null,
      "outputs": [
        {
          "output_type": "execute_result",
          "data": {
            "text/plain": [
              "(1000, 1000)"
            ]
          },
          "metadata": {},
          "execution_count": 436
        }
      ]
    },
    {
      "cell_type": "code",
      "source": [
        "sorted(list(enumerate(cos_similarity[0])),reverse=True,key=lambda x:x[1])[1:10]"
      ],
      "metadata": {
        "colab": {
          "base_uri": "https://localhost:8080/"
        },
        "id": "GxwEeXa7r7YV",
        "outputId": "424136d1-62b7-49e5-d940-846beacb59e2"
      },
      "execution_count": null,
      "outputs": [
        {
          "output_type": "execute_result",
          "data": {
            "text/plain": [
              "[(6, 0.37073899893266327),\n",
              " (773, 0.33351867298253507),\n",
              " (268, 0.31750031750047625),\n",
              " (13, 0.3135447206678483),\n",
              " (5, 0.3135447206678482),\n",
              " (11, 0.31318038399724624),\n",
              " (189, 0.3095103817997673),\n",
              " (821, 0.3092609442453742),\n",
              " (411, 0.3039740428042212)]"
            ]
          },
          "metadata": {},
          "execution_count": 453
        }
      ]
    },
    {
      "cell_type": "markdown",
      "source": [
        "Users Could search for below mentioned items."
      ],
      "metadata": {
        "id": "2Jn7Gzcw2Rgf"
      }
    },
    {
      "cell_type": "code",
      "source": [
        "def movie_recommend(movie):\n",
        "  movie_index=Movie[Movie.Title==movie].index[0]\n",
        "  distance=cos_similarity[movie_index]\n",
        "  movie_list=sorted(list(enumerate(distance)),reverse=True,key=lambda x:x[1])[1:10]\n",
        "\n",
        "  for x in movie_list:\n",
        "      print(Movie.iloc[x[0]].Title)"
      ],
      "metadata": {
        "id": "Za26GlwNsxtq"
      },
      "execution_count": null,
      "outputs": []
    },
    {
      "cell_type": "code",
      "source": [
        "movie_recommend('alien')"
      ],
      "metadata": {
        "colab": {
          "base_uri": "https://localhost:8080/"
        },
        "id": "h9bXiDijiuk8",
        "outputId": "40d644fc-2f58-4bef-86ce-7eb6d5ba3469"
      },
      "execution_count": null,
      "outputs": [
        {
          "output_type": "stream",
          "name": "stdout",
          "text": [
            "the thing\n",
            "invasion of the body snatchers\n",
            "the day the earth stood still\n",
            "misery\n",
            "shaun of the dead\n",
            "star trek ii: the wrath of khan\n",
            "abre los ojos\n",
            "aliens\n",
            "raging bull\n"
          ]
        }
      ]
    }
  ]
}